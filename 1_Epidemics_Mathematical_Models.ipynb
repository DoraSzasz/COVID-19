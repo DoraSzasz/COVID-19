{
  "nbformat": 4,
  "nbformat_minor": 0,
  "metadata": {
    "colab": {
      "name": "1_Epidemics_Mathematical_Models.ipynb",
      "provenance": [],
      "include_colab_link": true
    },
    "kernelspec": {
      "name": "python3",
      "display_name": "Python 3"
    }
  },
  "cells": [
    {
      "cell_type": "markdown",
      "metadata": {
        "id": "view-in-github",
        "colab_type": "text"
      },
      "source": [
        "<a href=\"https://colab.research.google.com/github/DoraSzasz/COVID-19/blob/master/1_Epidemics_Mathematical_Models.ipynb\" target=\"_parent\"><img src=\"https://colab.research.google.com/assets/colab-badge.svg\" alt=\"Open In Colab\"/></a>"
      ]
    },
    {
      "cell_type": "markdown",
      "metadata": {
        "id": "SrRWRheasErJ",
        "colab_type": "text"
      },
      "source": [
        "# The SIR Model\n",
        "\n",
        "## References\n",
        "\n",
        "*  https://mathworld.wolfram.com/SIRModel.html\n",
        "*  https://mathworld.wolfram.com/Kermack-McKendrickModel.html\n",
        "*  https://youtu.be/gxAaO2rsdIs\n",
        "\n",
        "## Definitions\n",
        "\n",
        "*  S = Susceptibles\n",
        "*  I = Infected\n",
        "*  R = Recovered (Removed)"
      ]
    },
    {
      "cell_type": "code",
      "metadata": {
        "id": "UBky1Z2YuD8e",
        "colab_type": "code",
        "colab": {}
      },
      "source": [
        "import pandas as pd"
      ],
      "execution_count": 0,
      "outputs": []
    },
    {
      "cell_type": "code",
      "metadata": {
        "id": "mapgC6Cntke5",
        "colab_type": "code",
        "colab": {}
      },
      "source": [
        "S = 1000000\n",
        "I = 1\n",
        "R = 0\n",
        "\n",
        "initial_conditions = { 'S' : [S], 'I' : [I], 'R': [R]}\n",
        "\n",
        "B = 0.0001   #  Infection Rate\n",
        "L = 0.4      #  Recovery Rate\n",
        "\n",
        "df = pd.DataFrame(data=initial_conditions)"
      ],
      "execution_count": 0,
      "outputs": []
    },
    {
      "cell_type": "code",
      "metadata": {
        "id": "8BC7-_7lwGNE",
        "colab_type": "code",
        "outputId": "5c23ea86-d9dd-47d1-bf42-3cc572f04689",
        "colab": {
          "base_uri": "https://localhost:8080/",
          "height": 867
        }
      },
      "source": [
        "for i in range(0,10):\n",
        "\n",
        "  new_infections = B * I * S\n",
        "  new_recoveries = L * I\n",
        "\n",
        "  dS = - new_infections\n",
        "  dI =   new_infections - new_recoveries\n",
        "  dR =                    new_recoveries\n",
        "\n",
        "  print('New infections {} New Recoveries {}'.format(new_infections,new_recoveries))\n",
        "  \n",
        "  S = S + dS\n",
        "  I = I + dI\n",
        "  R = R + dR\n",
        "\n",
        "  new_state = pd.Series([S, I, R], index=df.columns, name=i)\n",
        "  df.append(new_state)\n",
        "  print(new_state)"
      ],
      "execution_count": 0,
      "outputs": [
        {
          "output_type": "stream",
          "text": [
            "New infections 100.0 New Recoveries 0.4\n",
            "S    999900.0\n",
            "I       100.6\n",
            "R         0.4\n",
            "Name: 0, dtype: float64\n",
            "New infections 10058.993999999999 New Recoveries 40.24\n",
            "S    989841.006\n",
            "I     10119.354\n",
            "R        40.640\n",
            "Name: 1, dtype: float64\n",
            "New infections 1001655.1543430125 New Recoveries 4047.7416\n",
            "S   -1.181415e+04\n",
            "I    1.007727e+06\n",
            "R    4.088382e+03\n",
            "Name: 2, dtype: float64\n",
            "New infections -1190543.3511526242 New Recoveries 403090.7066972051\n",
            "S    1.178729e+06\n",
            "I   -5.859073e+05\n",
            "R    4.071791e+05\n",
            "Name: 3, dtype: float64\n",
            "New infections -69062603.41666773 New Recoveries -234362.9164427267\n",
            "S    7.024133e+07\n",
            "I   -6.941415e+07\n",
            "R    1.728162e+05\n",
            "Name: 4, dtype: float64\n",
            "New infections -487574224350.8498 New Recoveries -27765659.11653273\n",
            "S    4.876445e+11\n",
            "I   -4.876159e+11\n",
            "R   -2.759284e+07\n",
            "Name: 5, dtype: float64\n",
            "New infections -2.3778318176960848e+19 New Recoveries -195046349135.80984\n",
            "S    2.377832e+19\n",
            "I   -2.377832e+19\n",
            "R   -1.950739e+11\n",
            "Name: 6, dtype: float64\n",
            "New infections -5.654084338769633e+34 New Recoveries -9.51132738781215e+18\n",
            "S    5.654084e+34\n",
            "I   -5.654084e+34\n",
            "R   -9.511328e+18\n",
            "Name: 7, dtype: float64\n",
            "New infections -3.1968669709920066e+65 New Recoveries -2.261633735507854e+34\n",
            "S    3.196867e+65\n",
            "I   -3.196867e+65\n",
            "R   -2.261634e+34\n",
            "Name: 8, dtype: float64\n",
            "New infections -1.0219958430219608e+127 New Recoveries -1.2787467883968028e+65\n",
            "S    1.021996e+127\n",
            "I   -1.021996e+127\n",
            "R    -1.278747e+65\n",
            "Name: 9, dtype: float64\n"
          ],
          "name": "stdout"
        }
      ]
    },
    {
      "cell_type": "code",
      "metadata": {
        "id": "RbIHwaHE2Bud",
        "colab_type": "code",
        "outputId": "c4b990ec-233b-4963-9329-b5a169ccd759",
        "colab": {
          "base_uri": "https://localhost:8080/",
          "height": 34
        }
      },
      "source": [
        "new_state.name"
      ],
      "execution_count": 0,
      "outputs": [
        {
          "output_type": "execute_result",
          "data": {
            "text/plain": [
              "9"
            ]
          },
          "metadata": {
            "tags": []
          },
          "execution_count": 63
        }
      ]
    },
    {
      "cell_type": "code",
      "metadata": {
        "id": "ElzkUvJr6jZS",
        "colab_type": "code",
        "outputId": "cc195cf5-d47d-4709-a7af-1008bf210691",
        "colab": {
          "base_uri": "https://localhost:8080/",
          "height": 80
        }
      },
      "source": [
        "df"
      ],
      "execution_count": 0,
      "outputs": [
        {
          "output_type": "execute_result",
          "data": {
            "text/html": [
              "<div>\n",
              "<style scoped>\n",
              "    .dataframe tbody tr th:only-of-type {\n",
              "        vertical-align: middle;\n",
              "    }\n",
              "\n",
              "    .dataframe tbody tr th {\n",
              "        vertical-align: top;\n",
              "    }\n",
              "\n",
              "    .dataframe thead th {\n",
              "        text-align: right;\n",
              "    }\n",
              "</style>\n",
              "<table border=\"1\" class=\"dataframe\">\n",
              "  <thead>\n",
              "    <tr style=\"text-align: right;\">\n",
              "      <th></th>\n",
              "      <th>S</th>\n",
              "      <th>I</th>\n",
              "      <th>R</th>\n",
              "    </tr>\n",
              "  </thead>\n",
              "  <tbody>\n",
              "    <tr>\n",
              "      <th>0</th>\n",
              "      <td>1000000</td>\n",
              "      <td>1</td>\n",
              "      <td>0</td>\n",
              "    </tr>\n",
              "  </tbody>\n",
              "</table>\n",
              "</div>"
            ],
            "text/plain": [
              "         S  I  R\n",
              "0  1000000  1  0"
            ]
          },
          "metadata": {
            "tags": []
          },
          "execution_count": 64
        }
      ]
    },
    {
      "cell_type": "code",
      "metadata": {
        "id": "hYizHlnLRh7G",
        "colab_type": "code",
        "colab": {}
      },
      "source": [
        ""
      ],
      "execution_count": 0,
      "outputs": []
    }
  ]
}